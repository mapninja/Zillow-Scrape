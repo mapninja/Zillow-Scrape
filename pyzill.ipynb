{
 "cells": [
  {
   "cell_type": "code",
   "execution_count": 1,
   "metadata": {},
   "outputs": [
    {
     "name": "stdout",
     "output_type": "stream",
     "text": [
      "Collecting pyzill\n",
      "  Obtaining dependency information for pyzill from https://files.pythonhosted.org/packages/dd/6b/69d98eea7fc394bf3285831ad6057ec1cf1329c6d2be0bf9c8eea8a18a3b/pyzill-0.0.2-py3-none-any.whl.metadata\n",
      "  Downloading pyzill-0.0.2-py3-none-any.whl.metadata (2.6 kB)\n",
      "Requirement already satisfied: bs4 in /Users/maples/opt/anaconda3/envs/gdal-env/lib/python3.11/site-packages (from pyzill) (0.0.2)\n",
      "Requirement already satisfied: requests in /Users/maples/opt/anaconda3/envs/gdal-env/lib/python3.11/site-packages (from pyzill) (2.31.0)\n",
      "Requirement already satisfied: beautifulsoup4 in /Users/maples/opt/anaconda3/envs/gdal-env/lib/python3.11/site-packages (from bs4->pyzill) (4.12.2)\n",
      "Requirement already satisfied: charset-normalizer<4,>=2 in /Users/maples/opt/anaconda3/envs/gdal-env/lib/python3.11/site-packages (from requests->pyzill) (2.0.4)\n",
      "Requirement already satisfied: idna<4,>=2.5 in /Users/maples/opt/anaconda3/envs/gdal-env/lib/python3.11/site-packages (from requests->pyzill) (3.4)\n",
      "Requirement already satisfied: urllib3<3,>=1.21.1 in /Users/maples/opt/anaconda3/envs/gdal-env/lib/python3.11/site-packages (from requests->pyzill) (1.26.18)\n",
      "Requirement already satisfied: certifi>=2017.4.17 in /Users/maples/opt/anaconda3/envs/gdal-env/lib/python3.11/site-packages (from requests->pyzill) (2024.2.2)\n",
      "Requirement already satisfied: soupsieve>1.2 in /Users/maples/opt/anaconda3/envs/gdal-env/lib/python3.11/site-packages (from beautifulsoup4->bs4->pyzill) (2.5)\n",
      "Downloading pyzill-0.0.2-py3-none-any.whl (7.0 kB)\n",
      "Installing collected packages: pyzill\n",
      "Successfully installed pyzill-0.0.2\n"
     ]
    }
   ],
   "source": [
    "!pip install pyzill"
   ]
  },
  {
   "cell_type": "code",
   "execution_count": 2,
   "metadata": {},
   "outputs": [],
   "source": [
    "import pyzill\n",
    "import json\n",
    "import geopandas as gpd\n",
    "# Load the GeoJSON file\n",
    "gdf = gpd.read_file('/Users/maples/GitHub/Zillow-Scrape/grt_buffer_bbox_wgs84.geojson')\n",
    "\n",
    "# Calculate the bounding box\n",
    "bounds = gdf.total_bounds\n",
    "sw_long, sw_lat, ne_long, ne_lat = bounds\n",
    "zoom_value = 2\n",
    "#pagination is for the list that you see at the right when searching\n",
    "#you don't need to iterate over all the pages because zillow sends the whole data on mapresults at once on the first page\n",
    "#however the maximum result zillow returns is 500, so if mapResults is 500\n",
    "#try playing with the zoom or moving the coordinates, pagination won't help because you will always get at maximum 500 results\n",
    "pagination = 1 \n",
    "results_sold = pyzill.sold(pagination, ne_lat,ne_long,sw_lat,sw_long,zoom_value, \"\")\n",
    "results_sale = pyzill.for_sale(pagination, ne_lat,ne_long,sw_lat,sw_long,zoom_value, \"\")\n",
    "results_rent = pyzill.for_rent(pagination, ne_lat,ne_long,sw_lat,sw_long,zoom_value, \"\")\n",
    "jsondata_sold = json.dumps(results_sold)\n",
    "jsondata_sale = json.dumps(results_sale)\n",
    "jsondata_rent = json.dumps(results_rent)\n",
    "f = open(\"./jsondata_sold.json\", \"w\")\n",
    "f.write(jsondata_sold)\n",
    "f.close()\n",
    "f = open(\"./jsondata_sale.json\", \"w\")\n",
    "f.write(jsondata_sale)\n",
    "f.close()\n",
    "f = open(\"./jsondata_rent.json\", \"w\")\n",
    "f.write(jsondata_rent)\n",
    "f.close()"
   ]
  },
  {
   "cell_type": "code",
   "execution_count": 4,
   "metadata": {},
   "outputs": [
    {
     "name": "stdout",
     "output_type": "stream",
     "text": [
      "GeoJSON file '/Users/maples/GitHub/Zillow-Scrape/output_properties.geojson' created successfully.\n"
     ]
    }
   ],
   "source": [
    "import json\n",
    "import os\n",
    "\n",
    "def convert_to_geojson(input_file, output_file):\n",
    "    # Read the JSON data from the input file\n",
    "    with open(input_file, 'r') as f:\n",
    "        data = json.load(f)\n",
    "    \n",
    "    # Initialize the GeoJSON structure\n",
    "    geojson = {\n",
    "        \"type\": \"FeatureCollection\",\n",
    "        \"features\": []\n",
    "    }\n",
    "    \n",
    "    # Loop through the list of properties and extract relevant data\n",
    "    for property in data.get(\"listResults\", []):\n",
    "        feature = {\n",
    "            \"type\": \"Feature\",\n",
    "            \"geometry\": {\n",
    "                \"type\": \"Point\",\n",
    "                \"coordinates\": [\n",
    "                    property[\"latLong\"][\"longitude\"],\n",
    "                    property[\"latLong\"][\"latitude\"]\n",
    "                ]\n",
    "            },\n",
    "            \"properties\": {\n",
    "                \"zpid\": property[\"zpid\"],\n",
    "                \"price\": property[\"price\"],\n",
    "                \"address\": property[\"address\"],\n",
    "                \"beds\": property.get(\"beds\", None),\n",
    "                \"baths\": property.get(\"baths\", None),\n",
    "                \"area\": property.get(\"area\", None),\n",
    "                \"statusText\": property.get(\"statusText\", None),\n",
    "                \"detailUrl\": property.get(\"detailUrl\", None)\n",
    "            }\n",
    "        }\n",
    "        geojson[\"features\"].append(feature)\n",
    "    \n",
    "    # Write the GeoJSON data to the output file\n",
    "    with open(output_file, 'w') as f:\n",
    "        json.dump(geojson, f, indent=2)\n",
    "\n",
    "# Define the input and output file paths\n",
    "input_file = \"/Users/maples/GitHub/Zillow-Scrape/jsondata_sale.json\"\n",
    "output_file = \"/Users/maples/GitHub/Zillow-Scrape/output_properties.geojson\"\n",
    "\n",
    "# Convert the JSON data to GeoJSON format\n",
    "convert_to_geojson(input_file, output_file)\n",
    "\n",
    "print(f\"GeoJSON file '{output_file}' created successfully.\")"
   ]
  }
 ],
 "metadata": {
  "kernelspec": {
   "display_name": "Python 3",
   "language": "python",
   "name": "python3"
  },
  "language_info": {
   "codemirror_mode": {
    "name": "ipython",
    "version": 3
   },
   "file_extension": ".py",
   "mimetype": "text/x-python",
   "name": "python",
   "nbconvert_exporter": "python",
   "pygments_lexer": "ipython3",
   "version": "3.11.8"
  }
 },
 "nbformat": 4,
 "nbformat_minor": 2
}
